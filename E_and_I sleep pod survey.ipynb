{
  "nbformat": 4,
  "nbformat_minor": 0,
  "metadata": {
    "colab": {
      "provenance": [],
      "include_colab_link": true
    },
    "kernelspec": {
      "name": "python3",
      "display_name": "Python 3"
    },
    "language_info": {
      "name": "python"
    }
  },
  "cells": [
    {
      "cell_type": "markdown",
      "metadata": {
        "id": "view-in-github",
        "colab_type": "text"
      },
      "source": [
        "<a href=\"https://colab.research.google.com/github/EhigieO/AI-DA/blob/main/E_and_I%20sleep%20pod%20survey.ipynb\" target=\"_parent\"><img src=\"https://colab.research.google.com/assets/colab-badge.svg\" alt=\"Open In Colab\"/></a>"
      ]
    },
    {
      "cell_type": "code",
      "execution_count": null,
      "metadata": {
        "id": "Q8dj09ai57M-"
      },
      "outputs": [],
      "source": [
        "import pandas as pd\n",
        "\n",
        "df = pd.read_excel('/Sleep Pods_ The Future of Affordable Travel - What Do You Think_(1-18).xlsx')"
      ]
    },
    {
      "cell_type": "code",
      "source": [
        "df.head()"
      ],
      "metadata": {
        "colab": {
          "base_uri": "https://localhost:8080/",
          "height": 756
        },
        "id": "Vi9BUJt161Dl",
        "outputId": "6d060e69-0177-4a0c-a3e9-1fae9fa7a5c5"
      },
      "execution_count": null,
      "outputs": [
        {
          "output_type": "execute_result",
          "data": {
            "text/plain": [
              "   ID          Start time     Completion time                   Email  \\\n",
              "0   1 2023-05-04 18:48:26 2023-05-04 18:49:06  eoikpea@bradford.ac.uk   \n",
              "1   2 2023-05-04 18:48:26 2023-05-04 18:49:06  eoikpea@bradford.ac.uk   \n",
              "2   3 2023-05-04 19:38:11 2023-05-04 19:40:27               anonymous   \n",
              "3   4 2023-05-04 20:42:54 2023-05-04 20:45:31               anonymous   \n",
              "4   5 2023-05-04 20:50:37 2023-05-04 20:51:33               anonymous   \n",
              "\n",
              "           Name  \\\n",
              "0  Ehigie Ikpea   \n",
              "1  Ehigie Ikpea   \n",
              "2           NaN   \n",
              "3           NaN   \n",
              "4           NaN   \n",
              "\n",
              "  What is your current accommodation preference when traveling within the United Kingdom?  \\\n",
              "0                                              Hotel                                        \n",
              "1                                              Hotel                                        \n",
              "2                                 Airbnb/Home Rental                                        \n",
              "3                             Student accommodation                                         \n",
              "4                                             Hostel                                        \n",
              "\n",
              "  Have you ever stayed in a capsule hotel before? If so, where and what did you think of the experience?  \\\n",
              "0                                                 No                                                       \n",
              "1                                                 No                                                       \n",
              "2                                                 No                                                       \n",
              "3                                                 No                                                       \n",
              "4                                                 No                                                       \n",
              "\n",
              "  where and what did you think of the experience?  \\\n",
              "0                                             NaN   \n",
              "1                                             NaN   \n",
              "2                                             NaN   \n",
              "3                                             NaN   \n",
              "4                                             NaN   \n",
              "\n",
              "  What amenities would you expect in a capsule hotel, and how important are they to you? (e.g. Wi-Fi, communal areas, showers, laundry facilities, etc.)  \\\n",
              "0                             Laundry;Wi-Fi;Showers;                                                                                                       \n",
              "1                             Laundry;Wi-Fi;Showers;                                                                                                       \n",
              "2                             Wi-Fi;Showers;Laundry;                                                                                                       \n",
              "3  Wi-Fi;Showers;Communal areas;Laundry;What's a ...                                                                                                       \n",
              "4                                             Wi-Fi;                                                                                                       \n",
              "\n",
              "  How important is sustainable design and eco-friendliness in your accommodation choices?  \\\n",
              "0                                            Neutral                                        \n",
              "1                                            Neutral                                        \n",
              "2                                     Very important                                        \n",
              "3                                     Very important                                        \n",
              "4                                     Very important                                        \n",
              "\n",
              "  How likely are you to recommend a capsule hotel to friends or family if you had a positive experience?  \\\n",
              "0                                        Very likely                                                       \n",
              "1                                        Very likely                                                       \n",
              "2                                        Very likely                                                       \n",
              "3                        Neither likely nor unlikely                                                       \n",
              "4                                        Very likely                                                       \n",
              "\n",
              "  What time of day or night would you be most likely to use a sleep pod?  \\\n",
              "0                Both short-term and overnight stays                       \n",
              "1                Both short-term and overnight stays                       \n",
              "2                                     During the day                       \n",
              "3                                           At night                       \n",
              "4                                               Both                       \n",
              "\n",
              "  How much would you be willing to pay per night for a sleep pod?  \\\n",
              "0                                          Under £10                \n",
              "1                                          Under £10                \n",
              "2                                            £10-£30                \n",
              "3                                            £10-£30                \n",
              "4                                          Under £10                \n",
              "\n",
              "  What locations would you be most interested in seeing a Sleep Pods franchise established?  \\\n",
              "0     Bus/Train Stations areas;Tourist destinations;                                          \n",
              "1     Bus/Train Stations areas;Tourist destinations;                                          \n",
              "2                                       Rural areas;                                          \n",
              "3              Rural areas;Bus/Train Stations areas;                                          \n",
              "4                              Tourist destinations;                                          \n",
              "\n",
              "  How important is proximity to public transportation or major highways when choosing a sleep pod location?  \\\n",
              "0                                                NaN                                                          \n",
              "1                                                NaN                                                          \n",
              "2                                 Somewhat important                                                          \n",
              "3                                Extremely important                                                          \n",
              "4                                Extremely important                                                          \n",
              "\n",
              "  Would you be willing to try a capsule hotel if it was available at an affordable rate?\\n  \\\n",
              "0                                                Yes                                         \n",
              "1                                                Yes                                         \n",
              "2                                                Yes                                         \n",
              "3                                                Yes                                         \n",
              "4                                                Yes                                         \n",
              "\n",
              "  Do you have any suggestions or feedback on how Sleep Pods could improve its concept and service?\\n  \\\n",
              "0                                                NaN                                                   \n",
              "1                                                NaN                                                   \n",
              "2  It is important to have enough space for those...                                                   \n",
              "3  What is a sleep pod Sir? What is a capsule hotel?                                                   \n",
              "4                                                NaN                                                   \n",
              "\n",
              "  Enter an email address if you wish to get a copy of the survey result.  \n",
              "0                                                NaN                      \n",
              "1                                                NaN                      \n",
              "2                                                NaN                      \n",
              "3                                                Nop                      \n",
              "4                                                NaN                      "
            ],
            "text/html": [
              "\n",
              "  <div id=\"df-1c71cde5-d651-45c8-be0d-3ca7e798a939\">\n",
              "    <div class=\"colab-df-container\">\n",
              "      <div>\n",
              "<style scoped>\n",
              "    .dataframe tbody tr th:only-of-type {\n",
              "        vertical-align: middle;\n",
              "    }\n",
              "\n",
              "    .dataframe tbody tr th {\n",
              "        vertical-align: top;\n",
              "    }\n",
              "\n",
              "    .dataframe thead th {\n",
              "        text-align: right;\n",
              "    }\n",
              "</style>\n",
              "<table border=\"1\" class=\"dataframe\">\n",
              "  <thead>\n",
              "    <tr style=\"text-align: right;\">\n",
              "      <th></th>\n",
              "      <th>ID</th>\n",
              "      <th>Start time</th>\n",
              "      <th>Completion time</th>\n",
              "      <th>Email</th>\n",
              "      <th>Name</th>\n",
              "      <th>What is your current accommodation preference when traveling within the United Kingdom?</th>\n",
              "      <th>Have you ever stayed in a capsule hotel before? If so, where and what did you think of the experience?</th>\n",
              "      <th>where and what did you think of the experience?</th>\n",
              "      <th>What amenities would you expect in a capsule hotel, and how important are they to you? (e.g. Wi-Fi, communal areas, showers, laundry facilities, etc.)</th>\n",
              "      <th>How important is sustainable design and eco-friendliness in your accommodation choices?</th>\n",
              "      <th>How likely are you to recommend a capsule hotel to friends or family if you had a positive experience?</th>\n",
              "      <th>What time of day or night would you be most likely to use a sleep pod?</th>\n",
              "      <th>How much would you be willing to pay per night for a sleep pod?</th>\n",
              "      <th>What locations would you be most interested in seeing a Sleep Pods franchise established?</th>\n",
              "      <th>How important is proximity to public transportation or major highways when choosing a sleep pod location?</th>\n",
              "      <th>Would you be willing to try a capsule hotel if it was available at an affordable rate?\\n</th>\n",
              "      <th>Do you have any suggestions or feedback on how Sleep Pods could improve its concept and service?\\n</th>\n",
              "      <th>Enter an email address if you wish to get a copy of the survey result.</th>\n",
              "    </tr>\n",
              "  </thead>\n",
              "  <tbody>\n",
              "    <tr>\n",
              "      <th>0</th>\n",
              "      <td>1</td>\n",
              "      <td>2023-05-04 18:48:26</td>\n",
              "      <td>2023-05-04 18:49:06</td>\n",
              "      <td>eoikpea@bradford.ac.uk</td>\n",
              "      <td>Ehigie Ikpea</td>\n",
              "      <td>Hotel</td>\n",
              "      <td>No</td>\n",
              "      <td>NaN</td>\n",
              "      <td>Laundry;Wi-Fi;Showers;</td>\n",
              "      <td>Neutral</td>\n",
              "      <td>Very likely</td>\n",
              "      <td>Both short-term and overnight stays</td>\n",
              "      <td>Under £10</td>\n",
              "      <td>Bus/Train Stations areas;Tourist destinations;</td>\n",
              "      <td>NaN</td>\n",
              "      <td>Yes</td>\n",
              "      <td>NaN</td>\n",
              "      <td>NaN</td>\n",
              "    </tr>\n",
              "    <tr>\n",
              "      <th>1</th>\n",
              "      <td>2</td>\n",
              "      <td>2023-05-04 18:48:26</td>\n",
              "      <td>2023-05-04 18:49:06</td>\n",
              "      <td>eoikpea@bradford.ac.uk</td>\n",
              "      <td>Ehigie Ikpea</td>\n",
              "      <td>Hotel</td>\n",
              "      <td>No</td>\n",
              "      <td>NaN</td>\n",
              "      <td>Laundry;Wi-Fi;Showers;</td>\n",
              "      <td>Neutral</td>\n",
              "      <td>Very likely</td>\n",
              "      <td>Both short-term and overnight stays</td>\n",
              "      <td>Under £10</td>\n",
              "      <td>Bus/Train Stations areas;Tourist destinations;</td>\n",
              "      <td>NaN</td>\n",
              "      <td>Yes</td>\n",
              "      <td>NaN</td>\n",
              "      <td>NaN</td>\n",
              "    </tr>\n",
              "    <tr>\n",
              "      <th>2</th>\n",
              "      <td>3</td>\n",
              "      <td>2023-05-04 19:38:11</td>\n",
              "      <td>2023-05-04 19:40:27</td>\n",
              "      <td>anonymous</td>\n",
              "      <td>NaN</td>\n",
              "      <td>Airbnb/Home Rental</td>\n",
              "      <td>No</td>\n",
              "      <td>NaN</td>\n",
              "      <td>Wi-Fi;Showers;Laundry;</td>\n",
              "      <td>Very important</td>\n",
              "      <td>Very likely</td>\n",
              "      <td>During the day</td>\n",
              "      <td>£10-£30</td>\n",
              "      <td>Rural areas;</td>\n",
              "      <td>Somewhat important</td>\n",
              "      <td>Yes</td>\n",
              "      <td>It is important to have enough space for those...</td>\n",
              "      <td>NaN</td>\n",
              "    </tr>\n",
              "    <tr>\n",
              "      <th>3</th>\n",
              "      <td>4</td>\n",
              "      <td>2023-05-04 20:42:54</td>\n",
              "      <td>2023-05-04 20:45:31</td>\n",
              "      <td>anonymous</td>\n",
              "      <td>NaN</td>\n",
              "      <td>Student accommodation</td>\n",
              "      <td>No</td>\n",
              "      <td>NaN</td>\n",
              "      <td>Wi-Fi;Showers;Communal areas;Laundry;What's a ...</td>\n",
              "      <td>Very important</td>\n",
              "      <td>Neither likely nor unlikely</td>\n",
              "      <td>At night</td>\n",
              "      <td>£10-£30</td>\n",
              "      <td>Rural areas;Bus/Train Stations areas;</td>\n",
              "      <td>Extremely important</td>\n",
              "      <td>Yes</td>\n",
              "      <td>What is a sleep pod Sir? What is a capsule hotel?</td>\n",
              "      <td>Nop</td>\n",
              "    </tr>\n",
              "    <tr>\n",
              "      <th>4</th>\n",
              "      <td>5</td>\n",
              "      <td>2023-05-04 20:50:37</td>\n",
              "      <td>2023-05-04 20:51:33</td>\n",
              "      <td>anonymous</td>\n",
              "      <td>NaN</td>\n",
              "      <td>Hostel</td>\n",
              "      <td>No</td>\n",
              "      <td>NaN</td>\n",
              "      <td>Wi-Fi;</td>\n",
              "      <td>Very important</td>\n",
              "      <td>Very likely</td>\n",
              "      <td>Both</td>\n",
              "      <td>Under £10</td>\n",
              "      <td>Tourist destinations;</td>\n",
              "      <td>Extremely important</td>\n",
              "      <td>Yes</td>\n",
              "      <td>NaN</td>\n",
              "      <td>NaN</td>\n",
              "    </tr>\n",
              "  </tbody>\n",
              "</table>\n",
              "</div>\n",
              "      <button class=\"colab-df-convert\" onclick=\"convertToInteractive('df-1c71cde5-d651-45c8-be0d-3ca7e798a939')\"\n",
              "              title=\"Convert this dataframe to an interactive table.\"\n",
              "              style=\"display:none;\">\n",
              "        \n",
              "  <svg xmlns=\"http://www.w3.org/2000/svg\" height=\"24px\"viewBox=\"0 0 24 24\"\n",
              "       width=\"24px\">\n",
              "    <path d=\"M0 0h24v24H0V0z\" fill=\"none\"/>\n",
              "    <path d=\"M18.56 5.44l.94 2.06.94-2.06 2.06-.94-2.06-.94-.94-2.06-.94 2.06-2.06.94zm-11 1L8.5 8.5l.94-2.06 2.06-.94-2.06-.94L8.5 2.5l-.94 2.06-2.06.94zm10 10l.94 2.06.94-2.06 2.06-.94-2.06-.94-.94-2.06-.94 2.06-2.06.94z\"/><path d=\"M17.41 7.96l-1.37-1.37c-.4-.4-.92-.59-1.43-.59-.52 0-1.04.2-1.43.59L10.3 9.45l-7.72 7.72c-.78.78-.78 2.05 0 2.83L4 21.41c.39.39.9.59 1.41.59.51 0 1.02-.2 1.41-.59l7.78-7.78 2.81-2.81c.8-.78.8-2.07 0-2.86zM5.41 20L4 18.59l7.72-7.72 1.47 1.35L5.41 20z\"/>\n",
              "  </svg>\n",
              "      </button>\n",
              "      \n",
              "  <style>\n",
              "    .colab-df-container {\n",
              "      display:flex;\n",
              "      flex-wrap:wrap;\n",
              "      gap: 12px;\n",
              "    }\n",
              "\n",
              "    .colab-df-convert {\n",
              "      background-color: #E8F0FE;\n",
              "      border: none;\n",
              "      border-radius: 50%;\n",
              "      cursor: pointer;\n",
              "      display: none;\n",
              "      fill: #1967D2;\n",
              "      height: 32px;\n",
              "      padding: 0 0 0 0;\n",
              "      width: 32px;\n",
              "    }\n",
              "\n",
              "    .colab-df-convert:hover {\n",
              "      background-color: #E2EBFA;\n",
              "      box-shadow: 0px 1px 2px rgba(60, 64, 67, 0.3), 0px 1px 3px 1px rgba(60, 64, 67, 0.15);\n",
              "      fill: #174EA6;\n",
              "    }\n",
              "\n",
              "    [theme=dark] .colab-df-convert {\n",
              "      background-color: #3B4455;\n",
              "      fill: #D2E3FC;\n",
              "    }\n",
              "\n",
              "    [theme=dark] .colab-df-convert:hover {\n",
              "      background-color: #434B5C;\n",
              "      box-shadow: 0px 1px 3px 1px rgba(0, 0, 0, 0.15);\n",
              "      filter: drop-shadow(0px 1px 2px rgba(0, 0, 0, 0.3));\n",
              "      fill: #FFFFFF;\n",
              "    }\n",
              "  </style>\n",
              "\n",
              "      <script>\n",
              "        const buttonEl =\n",
              "          document.querySelector('#df-1c71cde5-d651-45c8-be0d-3ca7e798a939 button.colab-df-convert');\n",
              "        buttonEl.style.display =\n",
              "          google.colab.kernel.accessAllowed ? 'block' : 'none';\n",
              "\n",
              "        async function convertToInteractive(key) {\n",
              "          const element = document.querySelector('#df-1c71cde5-d651-45c8-be0d-3ca7e798a939');\n",
              "          const dataTable =\n",
              "            await google.colab.kernel.invokeFunction('convertToInteractive',\n",
              "                                                     [key], {});\n",
              "          if (!dataTable) return;\n",
              "\n",
              "          const docLinkHtml = 'Like what you see? Visit the ' +\n",
              "            '<a target=\"_blank\" href=https://colab.research.google.com/notebooks/data_table.ipynb>data table notebook</a>'\n",
              "            + ' to learn more about interactive tables.';\n",
              "          element.innerHTML = '';\n",
              "          dataTable['output_type'] = 'display_data';\n",
              "          await google.colab.output.renderOutput(dataTable, element);\n",
              "          const docLink = document.createElement('div');\n",
              "          docLink.innerHTML = docLinkHtml;\n",
              "          element.appendChild(docLink);\n",
              "        }\n",
              "      </script>\n",
              "    </div>\n",
              "  </div>\n",
              "  "
            ]
          },
          "metadata": {},
          "execution_count": 91
        }
      ]
    },
    {
      "cell_type": "code",
      "source": [
        "df.drop(['ID','Start time','Completion time','Email','Name','Enter an email address if you wish to get a copy of the survey result.'], axis=1, inplace=True)\n"
      ],
      "metadata": {
        "id": "MKllU5KX79de"
      },
      "execution_count": null,
      "outputs": []
    },
    {
      "cell_type": "code",
      "source": [
        "df.drop(['Do you have any suggestions or feedback on how Sleep Pods could improve its concept and service?\\n','where and what did you think of the experience?'], axis=1, inplace=True)\n"
      ],
      "metadata": {
        "id": "UC8ogm-S8_BJ"
      },
      "execution_count": null,
      "outputs": []
    },
    {
      "cell_type": "code",
      "source": [
        "df.head()"
      ],
      "metadata": {
        "colab": {
          "base_uri": "https://localhost:8080/",
          "height": 704
        },
        "id": "8O-Qh5UI8rDb",
        "outputId": "e7754971-1ec6-4640-8c36-1c1cdba51dc9"
      },
      "execution_count": null,
      "outputs": [
        {
          "output_type": "execute_result",
          "data": {
            "text/plain": [
              "  What is your current accommodation preference when traveling within the United Kingdom?  \\\n",
              "0                                              Hotel                                        \n",
              "1                                              Hotel                                        \n",
              "2                                 Airbnb/Home Rental                                        \n",
              "3                             Student accommodation                                         \n",
              "4                                             Hostel                                        \n",
              "\n",
              "  Have you ever stayed in a capsule hotel before? If so, where and what did you think of the experience?  \\\n",
              "0                                                 No                                                       \n",
              "1                                                 No                                                       \n",
              "2                                                 No                                                       \n",
              "3                                                 No                                                       \n",
              "4                                                 No                                                       \n",
              "\n",
              "  What amenities would you expect in a capsule hotel, and how important are they to you? (e.g. Wi-Fi, communal areas, showers, laundry facilities, etc.)  \\\n",
              "0                             Laundry;Wi-Fi;Showers;                                                                                                       \n",
              "1                             Laundry;Wi-Fi;Showers;                                                                                                       \n",
              "2                             Wi-Fi;Showers;Laundry;                                                                                                       \n",
              "3  Wi-Fi;Showers;Communal areas;Laundry;What's a ...                                                                                                       \n",
              "4                                             Wi-Fi;                                                                                                       \n",
              "\n",
              "  How important is sustainable design and eco-friendliness in your accommodation choices?  \\\n",
              "0                                            Neutral                                        \n",
              "1                                            Neutral                                        \n",
              "2                                     Very important                                        \n",
              "3                                     Very important                                        \n",
              "4                                     Very important                                        \n",
              "\n",
              "  How likely are you to recommend a capsule hotel to friends or family if you had a positive experience?  \\\n",
              "0                                        Very likely                                                       \n",
              "1                                        Very likely                                                       \n",
              "2                                        Very likely                                                       \n",
              "3                        Neither likely nor unlikely                                                       \n",
              "4                                        Very likely                                                       \n",
              "\n",
              "  What time of day or night would you be most likely to use a sleep pod?  \\\n",
              "0                Both short-term and overnight stays                       \n",
              "1                Both short-term and overnight stays                       \n",
              "2                                     During the day                       \n",
              "3                                           At night                       \n",
              "4                                               Both                       \n",
              "\n",
              "  How much would you be willing to pay per night for a sleep pod?  \\\n",
              "0                                          Under £10                \n",
              "1                                          Under £10                \n",
              "2                                            £10-£30                \n",
              "3                                            £10-£30                \n",
              "4                                          Under £10                \n",
              "\n",
              "  What locations would you be most interested in seeing a Sleep Pods franchise established?  \\\n",
              "0     Bus/Train Stations areas;Tourist destinations;                                          \n",
              "1     Bus/Train Stations areas;Tourist destinations;                                          \n",
              "2                                       Rural areas;                                          \n",
              "3              Rural areas;Bus/Train Stations areas;                                          \n",
              "4                              Tourist destinations;                                          \n",
              "\n",
              "  How important is proximity to public transportation or major highways when choosing a sleep pod location?  \\\n",
              "0                                                NaN                                                          \n",
              "1                                                NaN                                                          \n",
              "2                                 Somewhat important                                                          \n",
              "3                                Extremely important                                                          \n",
              "4                                Extremely important                                                          \n",
              "\n",
              "  Would you be willing to try a capsule hotel if it was available at an affordable rate?\\n  \n",
              "0                                                Yes                                        \n",
              "1                                                Yes                                        \n",
              "2                                                Yes                                        \n",
              "3                                                Yes                                        \n",
              "4                                                Yes                                        "
            ],
            "text/html": [
              "\n",
              "  <div id=\"df-57f7e76d-59c3-4c74-8d39-9ae53c253cd9\">\n",
              "    <div class=\"colab-df-container\">\n",
              "      <div>\n",
              "<style scoped>\n",
              "    .dataframe tbody tr th:only-of-type {\n",
              "        vertical-align: middle;\n",
              "    }\n",
              "\n",
              "    .dataframe tbody tr th {\n",
              "        vertical-align: top;\n",
              "    }\n",
              "\n",
              "    .dataframe thead th {\n",
              "        text-align: right;\n",
              "    }\n",
              "</style>\n",
              "<table border=\"1\" class=\"dataframe\">\n",
              "  <thead>\n",
              "    <tr style=\"text-align: right;\">\n",
              "      <th></th>\n",
              "      <th>What is your current accommodation preference when traveling within the United Kingdom?</th>\n",
              "      <th>Have you ever stayed in a capsule hotel before? If so, where and what did you think of the experience?</th>\n",
              "      <th>What amenities would you expect in a capsule hotel, and how important are they to you? (e.g. Wi-Fi, communal areas, showers, laundry facilities, etc.)</th>\n",
              "      <th>How important is sustainable design and eco-friendliness in your accommodation choices?</th>\n",
              "      <th>How likely are you to recommend a capsule hotel to friends or family if you had a positive experience?</th>\n",
              "      <th>What time of day or night would you be most likely to use a sleep pod?</th>\n",
              "      <th>How much would you be willing to pay per night for a sleep pod?</th>\n",
              "      <th>What locations would you be most interested in seeing a Sleep Pods franchise established?</th>\n",
              "      <th>How important is proximity to public transportation or major highways when choosing a sleep pod location?</th>\n",
              "      <th>Would you be willing to try a capsule hotel if it was available at an affordable rate?\\n</th>\n",
              "    </tr>\n",
              "  </thead>\n",
              "  <tbody>\n",
              "    <tr>\n",
              "      <th>0</th>\n",
              "      <td>Hotel</td>\n",
              "      <td>No</td>\n",
              "      <td>Laundry;Wi-Fi;Showers;</td>\n",
              "      <td>Neutral</td>\n",
              "      <td>Very likely</td>\n",
              "      <td>Both short-term and overnight stays</td>\n",
              "      <td>Under £10</td>\n",
              "      <td>Bus/Train Stations areas;Tourist destinations;</td>\n",
              "      <td>NaN</td>\n",
              "      <td>Yes</td>\n",
              "    </tr>\n",
              "    <tr>\n",
              "      <th>1</th>\n",
              "      <td>Hotel</td>\n",
              "      <td>No</td>\n",
              "      <td>Laundry;Wi-Fi;Showers;</td>\n",
              "      <td>Neutral</td>\n",
              "      <td>Very likely</td>\n",
              "      <td>Both short-term and overnight stays</td>\n",
              "      <td>Under £10</td>\n",
              "      <td>Bus/Train Stations areas;Tourist destinations;</td>\n",
              "      <td>NaN</td>\n",
              "      <td>Yes</td>\n",
              "    </tr>\n",
              "    <tr>\n",
              "      <th>2</th>\n",
              "      <td>Airbnb/Home Rental</td>\n",
              "      <td>No</td>\n",
              "      <td>Wi-Fi;Showers;Laundry;</td>\n",
              "      <td>Very important</td>\n",
              "      <td>Very likely</td>\n",
              "      <td>During the day</td>\n",
              "      <td>£10-£30</td>\n",
              "      <td>Rural areas;</td>\n",
              "      <td>Somewhat important</td>\n",
              "      <td>Yes</td>\n",
              "    </tr>\n",
              "    <tr>\n",
              "      <th>3</th>\n",
              "      <td>Student accommodation</td>\n",
              "      <td>No</td>\n",
              "      <td>Wi-Fi;Showers;Communal areas;Laundry;What's a ...</td>\n",
              "      <td>Very important</td>\n",
              "      <td>Neither likely nor unlikely</td>\n",
              "      <td>At night</td>\n",
              "      <td>£10-£30</td>\n",
              "      <td>Rural areas;Bus/Train Stations areas;</td>\n",
              "      <td>Extremely important</td>\n",
              "      <td>Yes</td>\n",
              "    </tr>\n",
              "    <tr>\n",
              "      <th>4</th>\n",
              "      <td>Hostel</td>\n",
              "      <td>No</td>\n",
              "      <td>Wi-Fi;</td>\n",
              "      <td>Very important</td>\n",
              "      <td>Very likely</td>\n",
              "      <td>Both</td>\n",
              "      <td>Under £10</td>\n",
              "      <td>Tourist destinations;</td>\n",
              "      <td>Extremely important</td>\n",
              "      <td>Yes</td>\n",
              "    </tr>\n",
              "  </tbody>\n",
              "</table>\n",
              "</div>\n",
              "      <button class=\"colab-df-convert\" onclick=\"convertToInteractive('df-57f7e76d-59c3-4c74-8d39-9ae53c253cd9')\"\n",
              "              title=\"Convert this dataframe to an interactive table.\"\n",
              "              style=\"display:none;\">\n",
              "        \n",
              "  <svg xmlns=\"http://www.w3.org/2000/svg\" height=\"24px\"viewBox=\"0 0 24 24\"\n",
              "       width=\"24px\">\n",
              "    <path d=\"M0 0h24v24H0V0z\" fill=\"none\"/>\n",
              "    <path d=\"M18.56 5.44l.94 2.06.94-2.06 2.06-.94-2.06-.94-.94-2.06-.94 2.06-2.06.94zm-11 1L8.5 8.5l.94-2.06 2.06-.94-2.06-.94L8.5 2.5l-.94 2.06-2.06.94zm10 10l.94 2.06.94-2.06 2.06-.94-2.06-.94-.94-2.06-.94 2.06-2.06.94z\"/><path d=\"M17.41 7.96l-1.37-1.37c-.4-.4-.92-.59-1.43-.59-.52 0-1.04.2-1.43.59L10.3 9.45l-7.72 7.72c-.78.78-.78 2.05 0 2.83L4 21.41c.39.39.9.59 1.41.59.51 0 1.02-.2 1.41-.59l7.78-7.78 2.81-2.81c.8-.78.8-2.07 0-2.86zM5.41 20L4 18.59l7.72-7.72 1.47 1.35L5.41 20z\"/>\n",
              "  </svg>\n",
              "      </button>\n",
              "      \n",
              "  <style>\n",
              "    .colab-df-container {\n",
              "      display:flex;\n",
              "      flex-wrap:wrap;\n",
              "      gap: 12px;\n",
              "    }\n",
              "\n",
              "    .colab-df-convert {\n",
              "      background-color: #E8F0FE;\n",
              "      border: none;\n",
              "      border-radius: 50%;\n",
              "      cursor: pointer;\n",
              "      display: none;\n",
              "      fill: #1967D2;\n",
              "      height: 32px;\n",
              "      padding: 0 0 0 0;\n",
              "      width: 32px;\n",
              "    }\n",
              "\n",
              "    .colab-df-convert:hover {\n",
              "      background-color: #E2EBFA;\n",
              "      box-shadow: 0px 1px 2px rgba(60, 64, 67, 0.3), 0px 1px 3px 1px rgba(60, 64, 67, 0.15);\n",
              "      fill: #174EA6;\n",
              "    }\n",
              "\n",
              "    [theme=dark] .colab-df-convert {\n",
              "      background-color: #3B4455;\n",
              "      fill: #D2E3FC;\n",
              "    }\n",
              "\n",
              "    [theme=dark] .colab-df-convert:hover {\n",
              "      background-color: #434B5C;\n",
              "      box-shadow: 0px 1px 3px 1px rgba(0, 0, 0, 0.15);\n",
              "      filter: drop-shadow(0px 1px 2px rgba(0, 0, 0, 0.3));\n",
              "      fill: #FFFFFF;\n",
              "    }\n",
              "  </style>\n",
              "\n",
              "      <script>\n",
              "        const buttonEl =\n",
              "          document.querySelector('#df-57f7e76d-59c3-4c74-8d39-9ae53c253cd9 button.colab-df-convert');\n",
              "        buttonEl.style.display =\n",
              "          google.colab.kernel.accessAllowed ? 'block' : 'none';\n",
              "\n",
              "        async function convertToInteractive(key) {\n",
              "          const element = document.querySelector('#df-57f7e76d-59c3-4c74-8d39-9ae53c253cd9');\n",
              "          const dataTable =\n",
              "            await google.colab.kernel.invokeFunction('convertToInteractive',\n",
              "                                                     [key], {});\n",
              "          if (!dataTable) return;\n",
              "\n",
              "          const docLinkHtml = 'Like what you see? Visit the ' +\n",
              "            '<a target=\"_blank\" href=https://colab.research.google.com/notebooks/data_table.ipynb>data table notebook</a>'\n",
              "            + ' to learn more about interactive tables.';\n",
              "          element.innerHTML = '';\n",
              "          dataTable['output_type'] = 'display_data';\n",
              "          await google.colab.output.renderOutput(dataTable, element);\n",
              "          const docLink = document.createElement('div');\n",
              "          docLink.innerHTML = docLinkHtml;\n",
              "          element.appendChild(docLink);\n",
              "        }\n",
              "      </script>\n",
              "    </div>\n",
              "  </div>\n",
              "  "
            ]
          },
          "metadata": {},
          "execution_count": 94
        }
      ]
    },
    {
      "cell_type": "code",
      "source": [
        "df = df.rename(columns={'What is your current accommodation preference when traveling within the United Kingdom?': 'prefAccomo'})"
      ],
      "metadata": {
        "id": "s0SJB9h39b5_"
      },
      "execution_count": null,
      "outputs": []
    },
    {
      "cell_type": "code",
      "source": [
        "df = df.rename(columns={'Have you ever stayed in a capsule hotel before? If so, where and what did you think of the experience?': 'capBefore'})"
      ],
      "metadata": {
        "id": "aBU2nLF091zt"
      },
      "execution_count": null,
      "outputs": []
    },
    {
      "cell_type": "code",
      "source": [
        "df = df.rename(columns={'What amenities would you expect in a capsule hotel, and how important are they to you? (e.g. Wi-Fi, communal areas, showers, laundry facilities, etc.)': 'ammenities'})"
      ],
      "metadata": {
        "id": "Da60SFSC92Me"
      },
      "execution_count": null,
      "outputs": []
    },
    {
      "cell_type": "code",
      "source": [
        "df = df.rename(columns={'How important is sustainable design and eco-friendliness in your accommodation choices?': 'ecochoice'})"
      ],
      "metadata": {
        "id": "nZ3NC0NJ92b9"
      },
      "execution_count": null,
      "outputs": []
    },
    {
      "cell_type": "code",
      "source": [
        "df = df.rename(columns={'How likely are you to recommend a capsule hotel to friends or family if you had a positive experience?': 'recommend'})"
      ],
      "metadata": {
        "id": "jDEs66mm92xu"
      },
      "execution_count": null,
      "outputs": []
    },
    {
      "cell_type": "code",
      "source": [
        "df = df.rename(columns={'What time of day or night would you be most likely to use a sleep pod?': 'prefBookTime'})"
      ],
      "metadata": {
        "id": "LMIHTRAt-xCU"
      },
      "execution_count": null,
      "outputs": []
    },
    {
      "cell_type": "code",
      "source": [
        "df = df.rename(columns={'How much would you be willing to pay per night for a sleep pod?': 'pay'})"
      ],
      "metadata": {
        "id": "eLdNkJyh-wwG"
      },
      "execution_count": null,
      "outputs": []
    },
    {
      "cell_type": "code",
      "source": [
        "df = df.rename(columns={'What locations would you be most interested in seeing a Sleep Pods franchise established?': 'prefLocation'})"
      ],
      "metadata": {
        "id": "zJqpYeEw-wdd"
      },
      "execution_count": null,
      "outputs": []
    },
    {
      "cell_type": "code",
      "source": [
        "df = df.rename(columns={'How important is proximity to public transportation or major highways when choosing a sleep pod location?': 'proximity'})"
      ],
      "metadata": {
        "id": "RgDvknDv_Ojx"
      },
      "execution_count": null,
      "outputs": []
    },
    {
      "cell_type": "code",
      "source": [
        "df = df.rename(columns={'Would you be willing to try a capsule hotel if it was available at an affordable rate?\\n': 'willTry'})"
      ],
      "metadata": {
        "id": "wB2vMmOl_OqE"
      },
      "execution_count": null,
      "outputs": []
    },
    {
      "cell_type": "code",
      "source": [
        "df.head()"
      ],
      "metadata": {
        "colab": {
          "base_uri": "https://localhost:8080/",
          "height": 461
        },
        "id": "26I62jkq_pZE",
        "outputId": "ee101761-563e-4bce-b061-2c8f6c82b02f"
      },
      "execution_count": null,
      "outputs": [
        {
          "output_type": "execute_result",
          "data": {
            "text/plain": [
              "               prefAccomo capBefore  \\\n",
              "0                   Hotel        No   \n",
              "1                   Hotel        No   \n",
              "2      Airbnb/Home Rental        No   \n",
              "3  Student accommodation         No   \n",
              "4                  Hostel        No   \n",
              "\n",
              "                                          ammenities       ecochoice  \\\n",
              "0                             Laundry;Wi-Fi;Showers;         Neutral   \n",
              "1                             Laundry;Wi-Fi;Showers;         Neutral   \n",
              "2                             Wi-Fi;Showers;Laundry;  Very important   \n",
              "3  Wi-Fi;Showers;Communal areas;Laundry;What's a ...  Very important   \n",
              "4                                             Wi-Fi;  Very important   \n",
              "\n",
              "                     recommend                         prefBookTime  \\\n",
              "0                  Very likely  Both short-term and overnight stays   \n",
              "1                  Very likely  Both short-term and overnight stays   \n",
              "2                  Very likely                       During the day   \n",
              "3  Neither likely nor unlikely                             At night   \n",
              "4                  Very likely                                 Both   \n",
              "\n",
              "         pay                                    prefLocation  \\\n",
              "0  Under £10  Bus/Train Stations areas;Tourist destinations;   \n",
              "1  Under £10  Bus/Train Stations areas;Tourist destinations;   \n",
              "2    £10-£30                                    Rural areas;   \n",
              "3    £10-£30           Rural areas;Bus/Train Stations areas;   \n",
              "4  Under £10                           Tourist destinations;   \n",
              "\n",
              "             proximity willTry  \n",
              "0                  NaN     Yes  \n",
              "1                  NaN     Yes  \n",
              "2   Somewhat important     Yes  \n",
              "3  Extremely important     Yes  \n",
              "4  Extremely important     Yes  "
            ],
            "text/html": [
              "\n",
              "  <div id=\"df-8c566efe-a343-4969-a239-241f43cd1e38\">\n",
              "    <div class=\"colab-df-container\">\n",
              "      <div>\n",
              "<style scoped>\n",
              "    .dataframe tbody tr th:only-of-type {\n",
              "        vertical-align: middle;\n",
              "    }\n",
              "\n",
              "    .dataframe tbody tr th {\n",
              "        vertical-align: top;\n",
              "    }\n",
              "\n",
              "    .dataframe thead th {\n",
              "        text-align: right;\n",
              "    }\n",
              "</style>\n",
              "<table border=\"1\" class=\"dataframe\">\n",
              "  <thead>\n",
              "    <tr style=\"text-align: right;\">\n",
              "      <th></th>\n",
              "      <th>prefAccomo</th>\n",
              "      <th>capBefore</th>\n",
              "      <th>ammenities</th>\n",
              "      <th>ecochoice</th>\n",
              "      <th>recommend</th>\n",
              "      <th>prefBookTime</th>\n",
              "      <th>pay</th>\n",
              "      <th>prefLocation</th>\n",
              "      <th>proximity</th>\n",
              "      <th>willTry</th>\n",
              "    </tr>\n",
              "  </thead>\n",
              "  <tbody>\n",
              "    <tr>\n",
              "      <th>0</th>\n",
              "      <td>Hotel</td>\n",
              "      <td>No</td>\n",
              "      <td>Laundry;Wi-Fi;Showers;</td>\n",
              "      <td>Neutral</td>\n",
              "      <td>Very likely</td>\n",
              "      <td>Both short-term and overnight stays</td>\n",
              "      <td>Under £10</td>\n",
              "      <td>Bus/Train Stations areas;Tourist destinations;</td>\n",
              "      <td>NaN</td>\n",
              "      <td>Yes</td>\n",
              "    </tr>\n",
              "    <tr>\n",
              "      <th>1</th>\n",
              "      <td>Hotel</td>\n",
              "      <td>No</td>\n",
              "      <td>Laundry;Wi-Fi;Showers;</td>\n",
              "      <td>Neutral</td>\n",
              "      <td>Very likely</td>\n",
              "      <td>Both short-term and overnight stays</td>\n",
              "      <td>Under £10</td>\n",
              "      <td>Bus/Train Stations areas;Tourist destinations;</td>\n",
              "      <td>NaN</td>\n",
              "      <td>Yes</td>\n",
              "    </tr>\n",
              "    <tr>\n",
              "      <th>2</th>\n",
              "      <td>Airbnb/Home Rental</td>\n",
              "      <td>No</td>\n",
              "      <td>Wi-Fi;Showers;Laundry;</td>\n",
              "      <td>Very important</td>\n",
              "      <td>Very likely</td>\n",
              "      <td>During the day</td>\n",
              "      <td>£10-£30</td>\n",
              "      <td>Rural areas;</td>\n",
              "      <td>Somewhat important</td>\n",
              "      <td>Yes</td>\n",
              "    </tr>\n",
              "    <tr>\n",
              "      <th>3</th>\n",
              "      <td>Student accommodation</td>\n",
              "      <td>No</td>\n",
              "      <td>Wi-Fi;Showers;Communal areas;Laundry;What's a ...</td>\n",
              "      <td>Very important</td>\n",
              "      <td>Neither likely nor unlikely</td>\n",
              "      <td>At night</td>\n",
              "      <td>£10-£30</td>\n",
              "      <td>Rural areas;Bus/Train Stations areas;</td>\n",
              "      <td>Extremely important</td>\n",
              "      <td>Yes</td>\n",
              "    </tr>\n",
              "    <tr>\n",
              "      <th>4</th>\n",
              "      <td>Hostel</td>\n",
              "      <td>No</td>\n",
              "      <td>Wi-Fi;</td>\n",
              "      <td>Very important</td>\n",
              "      <td>Very likely</td>\n",
              "      <td>Both</td>\n",
              "      <td>Under £10</td>\n",
              "      <td>Tourist destinations;</td>\n",
              "      <td>Extremely important</td>\n",
              "      <td>Yes</td>\n",
              "    </tr>\n",
              "  </tbody>\n",
              "</table>\n",
              "</div>\n",
              "      <button class=\"colab-df-convert\" onclick=\"convertToInteractive('df-8c566efe-a343-4969-a239-241f43cd1e38')\"\n",
              "              title=\"Convert this dataframe to an interactive table.\"\n",
              "              style=\"display:none;\">\n",
              "        \n",
              "  <svg xmlns=\"http://www.w3.org/2000/svg\" height=\"24px\"viewBox=\"0 0 24 24\"\n",
              "       width=\"24px\">\n",
              "    <path d=\"M0 0h24v24H0V0z\" fill=\"none\"/>\n",
              "    <path d=\"M18.56 5.44l.94 2.06.94-2.06 2.06-.94-2.06-.94-.94-2.06-.94 2.06-2.06.94zm-11 1L8.5 8.5l.94-2.06 2.06-.94-2.06-.94L8.5 2.5l-.94 2.06-2.06.94zm10 10l.94 2.06.94-2.06 2.06-.94-2.06-.94-.94-2.06-.94 2.06-2.06.94z\"/><path d=\"M17.41 7.96l-1.37-1.37c-.4-.4-.92-.59-1.43-.59-.52 0-1.04.2-1.43.59L10.3 9.45l-7.72 7.72c-.78.78-.78 2.05 0 2.83L4 21.41c.39.39.9.59 1.41.59.51 0 1.02-.2 1.41-.59l7.78-7.78 2.81-2.81c.8-.78.8-2.07 0-2.86zM5.41 20L4 18.59l7.72-7.72 1.47 1.35L5.41 20z\"/>\n",
              "  </svg>\n",
              "      </button>\n",
              "      \n",
              "  <style>\n",
              "    .colab-df-container {\n",
              "      display:flex;\n",
              "      flex-wrap:wrap;\n",
              "      gap: 12px;\n",
              "    }\n",
              "\n",
              "    .colab-df-convert {\n",
              "      background-color: #E8F0FE;\n",
              "      border: none;\n",
              "      border-radius: 50%;\n",
              "      cursor: pointer;\n",
              "      display: none;\n",
              "      fill: #1967D2;\n",
              "      height: 32px;\n",
              "      padding: 0 0 0 0;\n",
              "      width: 32px;\n",
              "    }\n",
              "\n",
              "    .colab-df-convert:hover {\n",
              "      background-color: #E2EBFA;\n",
              "      box-shadow: 0px 1px 2px rgba(60, 64, 67, 0.3), 0px 1px 3px 1px rgba(60, 64, 67, 0.15);\n",
              "      fill: #174EA6;\n",
              "    }\n",
              "\n",
              "    [theme=dark] .colab-df-convert {\n",
              "      background-color: #3B4455;\n",
              "      fill: #D2E3FC;\n",
              "    }\n",
              "\n",
              "    [theme=dark] .colab-df-convert:hover {\n",
              "      background-color: #434B5C;\n",
              "      box-shadow: 0px 1px 3px 1px rgba(0, 0, 0, 0.15);\n",
              "      filter: drop-shadow(0px 1px 2px rgba(0, 0, 0, 0.3));\n",
              "      fill: #FFFFFF;\n",
              "    }\n",
              "  </style>\n",
              "\n",
              "      <script>\n",
              "        const buttonEl =\n",
              "          document.querySelector('#df-8c566efe-a343-4969-a239-241f43cd1e38 button.colab-df-convert');\n",
              "        buttonEl.style.display =\n",
              "          google.colab.kernel.accessAllowed ? 'block' : 'none';\n",
              "\n",
              "        async function convertToInteractive(key) {\n",
              "          const element = document.querySelector('#df-8c566efe-a343-4969-a239-241f43cd1e38');\n",
              "          const dataTable =\n",
              "            await google.colab.kernel.invokeFunction('convertToInteractive',\n",
              "                                                     [key], {});\n",
              "          if (!dataTable) return;\n",
              "\n",
              "          const docLinkHtml = 'Like what you see? Visit the ' +\n",
              "            '<a target=\"_blank\" href=https://colab.research.google.com/notebooks/data_table.ipynb>data table notebook</a>'\n",
              "            + ' to learn more about interactive tables.';\n",
              "          element.innerHTML = '';\n",
              "          dataTable['output_type'] = 'display_data';\n",
              "          await google.colab.output.renderOutput(dataTable, element);\n",
              "          const docLink = document.createElement('div');\n",
              "          docLink.innerHTML = docLinkHtml;\n",
              "          element.appendChild(docLink);\n",
              "        }\n",
              "      </script>\n",
              "    </div>\n",
              "  </div>\n",
              "  "
            ]
          },
          "metadata": {},
          "execution_count": 105
        }
      ]
    },
    {
      "cell_type": "code",
      "source": [
        "laundry_count = len(df[df['ammenities'].str.contains('Laundry')])"
      ],
      "metadata": {
        "id": "wJTZQn9vBN_R"
      },
      "execution_count": null,
      "outputs": []
    },
    {
      "cell_type": "code",
      "source": [
        "showers_count = len(df[df['ammenities'].str.contains('Showers')])"
      ],
      "metadata": {
        "id": "AtP72tNiBVLS"
      },
      "execution_count": null,
      "outputs": []
    },
    {
      "cell_type": "code",
      "source": [
        "wifi_count = len(df[df['ammenities'].str.contains('Wi-Fi')])"
      ],
      "metadata": {
        "id": "OsaSDG7WBZtQ"
      },
      "execution_count": null,
      "outputs": []
    },
    {
      "cell_type": "code",
      "source": [
        "communal_areas = len(df[df['ammenities'].str.contains('Communal areas')])"
      ],
      "metadata": {
        "id": "JNzmqstuBk5H"
      },
      "execution_count": null,
      "outputs": []
    },
    {
      "cell_type": "code",
      "source": [
        "others = len(df[df['ammenities'].str.contains('Other')])"
      ],
      "metadata": {
        "id": "c5Gg5QUQBzMR"
      },
      "execution_count": null,
      "outputs": []
    },
    {
      "cell_type": "code",
      "source": [
        "import matplotlib.pyplot as plt\n",
        "counts = [laundry_count, showers_count,wifi_count,communal_areas,others]\n",
        "labels = ['Laundry', 'Showers','Wi-Fi','Communal areas','Other']\n",
        "\n",
        "# Plot the pie chart\n",
        "plt.pie(counts, labels=labels, autopct='%1.1f%%')\n",
        "plt.title('Amenities Counts')\n",
        "plt.show()"
      ],
      "metadata": {
        "colab": {
          "base_uri": "https://localhost:8080/",
          "height": 428
        },
        "id": "VXFPNYeMCLCj",
        "outputId": "46cadaf8-cb29-4c07-81d5-28d7b7b4a163"
      },
      "execution_count": null,
      "outputs": [
        {
          "output_type": "display_data",
          "data": {
            "text/plain": [
              "<Figure size 640x480 with 1 Axes>"
            ],
            "image/png": "[encoded data removed]"
          },
          "metadata": {}
        }
      ]
    },
    {
      "cell_type": "code",
      "source": [
        "night = len(df[df['prefBookTime'].str.contains('At Night')])"
      ],
      "metadata": {
        "id": "lWCryifxDk4y"
      },
      "execution_count": null,
      "outputs": []
    },
    {
      "cell_type": "code",
      "source": [
        "day = len(df[df['prefBookTime'].str.contains('During the day')])"
      ],
      "metadata": {
        "id": "4QDvOL2UFMFo"
      },
      "execution_count": null,
      "outputs": []
    },
    {
      "cell_type": "code",
      "source": [
        "both = len(df[df['prefBookTime'].str.contains('Both')])"
      ],
      "metadata": {
        "id": "K_uLpAwXFK7R"
      },
      "execution_count": null,
      "outputs": []
    },
    {
      "cell_type": "code",
      "source": [
        "other = len(df[df['prefBookTime'].str.contains('Other')])"
      ],
      "metadata": {
        "id": "QWWfacG9FKUe"
      },
      "execution_count": null,
      "outputs": []
    },
    {
      "cell_type": "code",
      "source": [
        "counts = [day, night,both,other]\n",
        "labels = ['Day', 'Night','Both','Other']\n",
        "\n",
        "# Plot the pie chart\n",
        "plt.pie(counts, labels=labels, autopct='%1.1f%%')\n",
        "plt.title('Prefered time to book')\n",
        "plt.show()"
      ],
      "metadata": {
        "colab": {
          "base_uri": "https://localhost:8080/",
          "height": 428
        },
        "id": "uotv-TC_FkVJ",
        "outputId": "10ee897a-0a25-4fbc-898a-13705f7a1b2c"
      },
      "execution_count": null,
      "outputs": [
        {
          "output_type": "display_data",
          "data": {
            "text/plain": [
              "<Figure size 640x480 with 1 Axes>"
            ],
            "image/png": "[encoded data removed]"
          },
          "metadata": {}
        }
      ]
    },
    {
      "cell_type": "code",
      "source": [
        "Urban_areas = len(df[df['prefLocation'].str.contains('Urban areas')])"
      ],
      "metadata": {
        "id": "zzOQyhN3GJtJ"
      },
      "execution_count": null,
      "outputs": []
    },
    {
      "cell_type": "code",
      "source": [
        "Rural_areas = len(df[df['prefLocation'].str.contains('Urban areas')])"
      ],
      "metadata": {
        "id": "rCspb5CeIFti"
      },
      "execution_count": null,
      "outputs": []
    },
    {
      "cell_type": "code",
      "source": [
        "Tourist_destinations = len(df[df['prefLocation'].str.contains('Tourist destinations')])"
      ],
      "metadata": {
        "id": "ikr2IFDxIGSZ"
      },
      "execution_count": null,
      "outputs": []
    },
    {
      "cell_type": "code",
      "source": [
        "Business_districts = len(df[df['prefLocation'].str.contains('Business districts')])"
      ],
      "metadata": {
        "id": "9RT3R4xcIZHg"
      },
      "execution_count": null,
      "outputs": []
    },
    {
      "cell_type": "code",
      "source": [
        "transport_Stations = len(df[df['prefLocation'].str.contains('Bus/Train Stations areas')])"
      ],
      "metadata": {
        "id": "kKs4oTCyIZk0"
      },
      "execution_count": null,
      "outputs": []
    },
    {
      "cell_type": "code",
      "source": [
        "counts = [Urban_areas, Rural_areas,Tourist_destinations,Business_districts,transport_Stations]\n",
        "labels = ['Urban areas', 'Rural areas','Tourist destinations','Business districts','Bus/Train Stations areas']\n",
        "\n",
        "# Plot the pie chart\n",
        "plt.pie(counts, labels=labels, autopct='%1.1f%%')\n",
        "plt.title('Prefered Location')\n",
        "plt.show()"
      ],
      "metadata": {
        "colab": {
          "base_uri": "https://localhost:8080/",
          "height": 428
        },
        "id": "rk3uOUquHSrZ",
        "outputId": "02dba331-949f-4ee6-f045-3d1e946c3684"
      },
      "execution_count": null,
      "outputs": [
        {
          "output_type": "display_data",
          "data": {
            "text/plain": [
              "<Figure size 640x480 with 1 Axes>"
            ],
            "image/png": "[encoded data removed]"
          },
          "metadata": {}
        }
      ]
    },
    {
      "cell_type": "code",
      "source": [
        "yes = len(df[df['willTry'].str.contains('Yes')])"
      ],
      "metadata": {
        "id": "gJCkVMb7Jc4T"
      },
      "execution_count": null,
      "outputs": []
    },
    {
      "cell_type": "code",
      "source": [
        "len(df)"
      ],
      "metadata": {
        "colab": {
          "base_uri": "https://localhost:8080/"
        },
        "id": "RnmWx6OZOUPD",
        "outputId": "cc22260c-ad7c-4a75-d4de-ca96da0a2471"
      },
      "execution_count": null,
      "outputs": [
        {
          "output_type": "execute_result",
          "data": {
            "text/plain": [
              "90"
            ]
          },
          "metadata": {},
          "execution_count": 124
        }
      ]
    },
    {
      "cell_type": "code",
      "source": [
        "no = len(df[df['willTry'].str.contains('No')])"
      ],
      "metadata": {
        "id": "_vrVWy3oJ8k4"
      },
      "execution_count": null,
      "outputs": []
    },
    {
      "cell_type": "code",
      "source": [
        "maybe = len(df[df['willTry'].str.contains('Maybe')])"
      ],
      "metadata": {
        "id": "mWKqXHEmJ-DI"
      },
      "execution_count": null,
      "outputs": []
    },
    {
      "cell_type": "code",
      "source": [
        "counts = [yes,no,maybe]\n",
        "labels = ['Yes','No','Maybe']\n",
        "\n",
        "plt.bar(labels, counts)\n",
        "plt.xlabel('Choices')\n",
        "plt.ylabel('Counts')\n",
        "plt.title('People willing to try a capsule hotel')\n",
        "plt.show()"
      ],
      "metadata": {
        "colab": {
          "base_uri": "https://localhost:8080/",
          "height": 472
        },
        "id": "4hMCBb8_Jbc-",
        "outputId": "ffa183a8-9663-4107-d989-33ebbe61fa99"
      },
      "execution_count": null,
      "outputs": [
        {
          "output_type": "display_data",
          "data": {
            "text/plain": [
              "<Figure size 640x480 with 1 Axes>"
            ],
            "image/png": "[encoded data removed]"
          },
          "metadata": {}
        }
      ]
    },
    {
      "cell_type": "code",
      "source": [
        "yes = len(df[df['capBefore'].str.contains('Yes')])"
      ],
      "metadata": {
        "id": "LnsmKL5WLZqM"
      },
      "execution_count": null,
      "outputs": []
    },
    {
      "cell_type": "code",
      "source": [
        "no = len(df[df['capBefore'].str.contains('No')])"
      ],
      "metadata": {
        "id": "Ps8dOFZ_Ln9y"
      },
      "execution_count": null,
      "outputs": []
    },
    {
      "cell_type": "code",
      "source": [
        "counts = [yes,no]\n",
        "labels = ['Yes','No']\n",
        "\n",
        "plt.bar(labels, counts)\n",
        "plt.xlabel('Tried a capsule hotel before')\n",
        "plt.ylabel('Counts')\n",
        "plt.title('People who have tried a capsule hotel')\n",
        "plt.show()"
      ],
      "metadata": {
        "colab": {
          "base_uri": "https://localhost:8080/",
          "height": 472
        },
        "id": "WSgSwoXULue2",
        "outputId": "fea25f46-9d9a-41f0-98eb-8350e9822280"
      },
      "execution_count": null,
      "outputs": [
        {
          "output_type": "display_data",
          "data": {
            "text/plain": [
              "<Figure size 640x480 with 1 Axes>"
            ],
            "image/png": "[encoded data removed]"
          },
          "metadata": {}
        }
      ]
    }
  ]
}